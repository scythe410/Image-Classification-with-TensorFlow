{
 "cells": [
  {
   "cell_type": "markdown",
   "id": "4ed49c0a",
   "metadata": {},
   "source": []
  }
 ],
 "metadata": {
  "language_info": {
   "name": "python"
  }
 },
 "nbformat": 4,
 "nbformat_minor": 5
}
