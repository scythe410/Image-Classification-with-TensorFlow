{
 "cells": [
  {
   "cell_type": "markdown",
   "id": "b0ca01fa",
   "metadata": {},
   "source": [
    "## Training a neural network to classify images of clothing"
   ]
  },
  {
   "cell_type": "code",
   "execution_count": 3,
   "id": "acd1a7f7",
   "metadata": {},
   "outputs": [],
   "source": [
    "import tensorflow as tf\n",
    "import tensorflow_datasets as tfds\n",
    "\n",
    "import numpy as np"
   ]
  },
  {
   "cell_type": "markdown",
   "id": "03628bfe",
   "metadata": {},
   "source": [
    "We're using a dataset called 'Fashion MNIST'. GitHub: https://github.com/zalandoresearch/fashion-mnist.\n",
    "\n",
    "This dataset contains 60,000 training images and 10,000 testing images. Each image is a 28x28 grayscale image of a fashion item (e.g. a t-shirt, a dress, etc.). The task is to predict the class of the image (e.g. t-shirt , dress, etc.).\n",
    "\n",
    "<div style=\"text-align: center\">\n",
    "    <img src=\"mnist.png\" width=500px alt=\"mnist dataset image\">\n",
    "</div>"
   ]
  }
 ],
 "metadata": {
  "kernelspec": {
   "display_name": "Python 3",
   "language": "python",
   "name": "python3"
  },
  "language_info": {
   "codemirror_mode": {
    "name": "ipython",
    "version": 3
   },
   "file_extension": ".py",
   "mimetype": "text/x-python",
   "name": "python",
   "nbconvert_exporter": "python",
   "pygments_lexer": "ipython3",
   "version": "3.10.0"
  }
 },
 "nbformat": 4,
 "nbformat_minor": 5
}
