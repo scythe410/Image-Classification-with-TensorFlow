{
 "cells": [
  {
   "cell_type": "markdown",
   "id": "b6bbcfd5",
   "metadata": {},
   "source": [
    "# Example for how TensorFlow Models are Trained\n",
    "\n",
    "A simple simple regression model is trained using TensorFlow."
   ]
  },
  {
   "cell_type": "code",
   "execution_count": 1,
   "id": "ef8bf3ac",
   "metadata": {},
   "outputs": [],
   "source": [
    "import tensorflow as tf\n",
    "import numpy as np"
   ]
  },
  {
   "cell_type": "markdown",
   "id": "e90be6fa",
   "metadata": {},
   "source": [
    "Creating input data (xs) and output labels (ys). This is a simple linear relationship y = 3x+1."
   ]
  },
  {
   "cell_type": "code",
   "execution_count": null,
   "id": "3a4feb05",
   "metadata": {},
   "outputs": [],
   "source": [
    "xs = np.array([-1.0, 0.0, 1.0, 2.0, 3.0, 4.0], dtype=float)\n",
    "ys = np.array([-2.0, 1.0, 4.0, 7.0, 10.0, 13.0], dtype=float)"
   ]
  },
  {
   "cell_type": "markdown",
   "id": "20e52d9f",
   "metadata": {},
   "source": [
    "A Sequential Model is made. This has just one layer with one neuron, making it equivalent to a simple linear regression (y = wx + b).\n",
    "- w is the weight the network will learn\n",
    "- b is the bias the network will learn\n",
    "\n",
    " \n",
    "> Sequential Model - A linear stack of layers where data flows from input to output sequentially. It's the simplest type of neural network architecture, where each layer feeds directly into the next one.\n",
    "\n",
    "> Dense Layer - A \"Dense\" layer means each neuron in this layer is connected to every neuron in the previous layer."
   ]
  },
  {
   "cell_type": "code",
   "execution_count": null,
   "id": "3bcc042c",
   "metadata": {},
   "outputs": [],
   "source": [
    "# units = 1 means one neuron in this layer\n",
    "# input_shape = [1] means the input to this layer is a single value\n",
    "\n",
    "model = tf.keras.Sequential([\n",
    "    tf.keras.layers.Dense(units=1, input_shape=[1])\n",
    "    ])"
   ]
  },
  {
   "cell_type": "markdown",
   "id": "7ee4a8bc",
   "metadata": {},
   "source": [
    "<div style=\"text-align: center\">\n",
    "    <img src=\"simple_nn_diagram.svg\" width=500px alt=\"visual representation of the nn\">\n",
    "</div>"
   ]
  },
  {
   "cell_type": "markdown",
   "id": "1340e16d",
   "metadata": {},
   "source": [
    "> SGD -  Stochastic Gradient Descent - an algorithm that helps the model learn by gradually adjusting weights to minimize errors\n",
    "\n",
    "> MeanSquaredError() - the loss function that measures how far predictions are from actual values"
   ]
  },
  {
   "cell_type": "code",
   "execution_count": null,
   "id": "caf4ac22",
   "metadata": {},
   "outputs": [],
   "source": [
    "model.compile(optimizer=tf.keras.optimizers.SGD(), loss=tf.keras.losses.MeanSquaredError())"
   ]
  },
  {
   "cell_type": "markdown",
   "id": "5cbf2dae",
   "metadata": {},
   "source": [
    "We compile the model with Stochastic Gradient Descent (SGD) optimizer and train it to minimize the loss function. The model processes the entire dataset 500 times (epochs), gradually adjusting its weights and biases to better fit the linear relationship.\n",
    "\n",
    "We can see how the loss significantly reduces from each iteration.\n",
    "\n",
    "> Compilation - Prepares the model for training by setting up the optimizer and loss function\n",
    "\n",
    "> Epochs - Complete passes through the entire dataset"
   ]
  },
  {
   "cell_type": "code",
   "execution_count": null,
   "id": "fc696b25",
   "metadata": {},
   "outputs": [],
   "source": [
    "model.fit(xs, ys, epochs=500)"
   ]
  },
  {
   "cell_type": "markdown",
   "id": "161b5a83",
   "metadata": {},
   "source": [
    "## Prediction"
   ]
  },
  {
   "cell_type": "code",
   "execution_count": null,
   "id": "9d99947f",
   "metadata": {},
   "outputs": [],
   "source": [
    "pred = int(model.predict(np.array([10.0]))[0][0])\n",
    "\n",
    "pred"
   ]
  }
 ],
 "metadata": {
  "kernelspec": {
   "display_name": "Python 3",
   "language": "python",
   "name": "python3"
  },
  "language_info": {
   "codemirror_mode": {
    "name": "ipython",
    "version": 3
   },
   "file_extension": ".py",
   "mimetype": "text/x-python",
   "name": "python",
   "nbconvert_exporter": "python",
   "pygments_lexer": "ipython3",
   "version": "3.10.0"
  }
 },
 "nbformat": 4,
 "nbformat_minor": 5
}
